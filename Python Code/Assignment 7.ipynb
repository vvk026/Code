{
 "cells": [
  {
   "cell_type": "markdown",
   "metadata": {},
   "source": [
    "1.\tWrite a Python Program to find sum of array?"
   ]
  },
  {
   "cell_type": "code",
   "execution_count": 1,
   "metadata": {},
   "outputs": [
    {
     "name": "stdout",
     "output_type": "stream",
     "text": [
      "name 'np' is not defined\n"
     ]
    }
   ],
   "source": [
    "import numpy as np\n",
    "class arr:\n",
    "    def __init__(self,a):\n",
    "        self.a=a\n",
    "    def ar(self):\n",
    "        try:\n",
    "            return sum(np.arange(1,self.a))\n",
    "        except Exception as e:\n",
    "            print(e)\n",
    "q=arr(13)\n",
    "q.ar()"
   ]
  },
  {
   "cell_type": "markdown",
   "metadata": {},
   "source": [
    "2.\tWrite a Python Program to find largest element in an array?"
   ]
  },
  {
   "cell_type": "code",
   "execution_count": null,
   "metadata": {},
   "outputs": [],
   "source": [
    "import numpy as np\n",
    "class arr:\n",
    "    def __init__(self,a):\n",
    "        self.a=a\n",
    "    def ar(self):\n",
    "        try:\n",
    "            return max(np.arange(1,self.a))\n",
    "        except Exception as e:\n",
    "            print(e)\n",
    "q=arr(13)\n",
    "q.ar()"
   ]
  },
  {
   "cell_type": "markdown",
   "metadata": {},
   "source": [
    "3.\tWrite a Python Program for array rotation?"
   ]
  },
  {
   "cell_type": "code",
   "execution_count": null,
   "metadata": {},
   "outputs": [],
   "source": [
    "import numpy as np\n",
    "class arr:\n",
    "    def __init__(self,a):\n",
    "        self.a=a\n",
    "    def ar(self):\n",
    "        try:\n",
    "            c=np.arange(1,self.a)\n",
    "            return c[::-1]\n",
    "        except Exception as e:\n",
    "            print(e)\n",
    "q=arr(13)\n",
    "q.ar()"
   ]
  },
  {
   "cell_type": "markdown",
   "metadata": {},
   "source": [
    "4.\tWrite a Python Program to Split the array and add the first part to the end?"
   ]
  },
  {
   "cell_type": "code",
   "execution_count": 7,
   "metadata": {},
   "outputs": [
    {
     "data": {
      "text/plain": [
       "array([ 7,  8,  9, 10, 11, 12,  1,  2,  3,  4,  5,  6])"
      ]
     },
     "execution_count": 7,
     "metadata": {},
     "output_type": "execute_result"
    }
   ],
   "source": [
    "import numpy as np\n",
    "class arr:\n",
    "    def __init__(self,a):\n",
    "        self.a=a\n",
    "    def ar(self):\n",
    "        try:\n",
    "            c=np.arange(1,self.a)\n",
    "            d=list(c[:len(c)//2])\n",
    "            e=list(c[len(c)//2:])\n",
    "            return np.array(e+d)\n",
    "        except Exception as e:\n",
    "            print(e)\n",
    "q=arr(13)\n",
    "q.ar()"
   ]
  },
  {
   "cell_type": "markdown",
   "metadata": {},
   "source": [
    "5.\tWrite a Python Program to check if given array is Monotonic?"
   ]
  },
  {
   "cell_type": "code",
   "execution_count": 30,
   "metadata": {},
   "outputs": [
    {
     "data": {
      "text/plain": [
       "'Not Monotonic'"
      ]
     },
     "execution_count": 30,
     "metadata": {},
     "output_type": "execute_result"
    }
   ],
   "source": [
    "import numpy as np\n",
    "class arr:\n",
    "    def __init__(self,a):\n",
    "        self.a=a\n",
    "    def ar(self):\n",
    "        try:\n",
    "            c=np.array(self.a)\n",
    "            c1=list(c)\n",
    "            if c1==sorted(c1) or c1==sorted(c1,reverse=True):\n",
    "                return 'Monotonic'\n",
    "            else:\n",
    "                return 'Not Monotonic'\n",
    "        except Exception as e:\n",
    "            print(e)\n",
    "q=arr([9,1,2,4])\n",
    "q.ar()"
   ]
  }
 ],
 "metadata": {
  "kernelspec": {
   "display_name": "Python 3",
   "language": "python",
   "name": "python3"
  },
  "language_info": {
   "codemirror_mode": {
    "name": "ipython",
    "version": 3
   },
   "file_extension": ".py",
   "mimetype": "text/x-python",
   "name": "python",
   "nbconvert_exporter": "python",
   "pygments_lexer": "ipython3",
   "version": "3.8.5"
  }
 },
 "nbformat": 4,
 "nbformat_minor": 4
}

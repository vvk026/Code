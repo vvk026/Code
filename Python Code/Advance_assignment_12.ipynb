{
 "cells": [
  {
   "cell_type": "markdown",
   "metadata": {},
   "source": [
    "1. For this challenge, forget how to add two numbers together. The best explanation on what to do for this function is this meme:\n",
    "\n",
    "\n",
    "\n",
    "\n",
    "Examples\n",
    "\n",
    "meme_sum(26, 39) ➞ 515\n",
    "# 2+3 = 5, 6+9 = 15\n",
    "# 26 + 39 = 515\n",
    "\n",
    "meme_sum(122, 81) ➞ 1103\n",
    "# 1+0 = 1, 2+8 = 10, 2+1 = 3\n",
    "# 122 + 81 = 1103\n",
    "\n",
    "meme_sum(1222, 30277) ➞ 31499\n"
   ]
  },
  {
   "cell_type": "code",
   "execution_count": 63,
   "metadata": {},
   "outputs": [
    {
     "data": {
      "text/plain": [
       "1103"
      ]
     },
     "execution_count": 63,
     "metadata": {},
     "output_type": "execute_result"
    }
   ],
   "source": [
    "class xyz:\n",
    "    def __init__(self,a,b):\n",
    "        self.a=a\n",
    "        self.b=b\n",
    "    def meme(self):\n",
    "        try:\n",
    "            l=[]\n",
    "            l1=[]\n",
    "            ab=len(str(self.a))\n",
    "            ba=len(str(self.b))\n",
    "            if ab==ba:\n",
    "                for i in range(ab):\n",
    "                    l.append(int(str(self.a)[i])+int(str(self.b)[i]))\n",
    "                for j in l:\n",
    "                    l1.append(str(j))\n",
    "                l2=''.join(l1)\n",
    "                return int(l2)\n",
    "            if ab<ba:\n",
    "                b1=[]\n",
    "                b2=[]\n",
    "                b4=[]\n",
    "                b5=[]\n",
    "                for i1 in str(self.a):\n",
    "                    b1.append(i1)\n",
    "                c=len(b1)\n",
    "                while c<ba:\n",
    "                    b1.insert(0,0)\n",
    "                    c=len(b1)\n",
    "                for i2 in b1:\n",
    "                    b2.append(str(i2))\n",
    "                b3=''.join(b2)\n",
    "                for i in range(len(b3)):\n",
    "                    b4.append(int(str(b3)[i])+int(str(self.b)[i]))\n",
    "                for j1 in b4:\n",
    "                    b5.append(str(j1))\n",
    "                b6=''.join(b5)\n",
    "                return int(b6)\n",
    "            if ab>ba:\n",
    "                q1=[]\n",
    "                q3=[]\n",
    "                q5=[]\n",
    "                q6=[]\n",
    "                for w in str(self.b):\n",
    "                    q1.append(w)\n",
    "                d=len(q1)\n",
    "                while d<ab:\n",
    "                    q1.insert(0,0)\n",
    "                    d=len(q1)\n",
    "                for q2 in q1:\n",
    "                    q3.append(str(q2))\n",
    "                q4=''.join(q3)\n",
    "                for i in range(len(q3)):\n",
    "                    q5.append(int(str(self.a)[i])+int(str(q4)[i]))\n",
    "                for j1 in q5:\n",
    "                    q6.append(str(j1))\n",
    "                q7=''.join(q6)\n",
    "                return int(q7)\n",
    "        except Exception as e:\n",
    "            print(e)\n",
    "q=xyz(122, 81)\n",
    "q.meme()"
   ]
  },
  {
   "cell_type": "markdown",
   "metadata": {},
   "source": [
    "2. Given an integer, create a function that returns the next prime. If the number is prime, return the number itself.\n",
    "\n",
    "Examples\n",
    "\n",
    "next_prime(12) ➞ 13\n",
    "\n",
    "next_prime(24) ➞ 29\n",
    "\n",
    "next_prime(11) ➞ 11\n",
    "# 11 is a prime, so we return the number itself.\n",
    "\n"
   ]
  },
  {
   "cell_type": "code",
   "execution_count": 112,
   "metadata": {},
   "outputs": [
    {
     "data": {
      "text/plain": [
       "13"
      ]
     },
     "execution_count": 112,
     "metadata": {},
     "output_type": "execute_result"
    }
   ],
   "source": [
    "def isPrime(n):\n",
    "    if n==1:\n",
    "        return True\n",
    "    else:\n",
    "        for i in range(2,int(n/2)+1):\n",
    "            if n%i==0:\n",
    "                return False\n",
    "        return True\n",
    "\n",
    "def next_prime(x):\n",
    "    if isPrime(x):\n",
    "        return x\n",
    "    else:\n",
    "        while(isPrime(x)!=True):\n",
    "            x=x+1\n",
    "        return x\n",
    "next_prime(12)"
   ]
  },
  {
   "cell_type": "markdown",
   "metadata": {},
   "source": [
    "3. If a person traveled up a hill for 18mins at 20mph and then traveled back down the same path at 60mph then their average speed traveled was 30mph.\n",
    "\n",
    "Write a function that returns the average speed traveled given an uphill time, uphill rate and a downhill rate. Uphill time is given in minutes. Return the rate as an integer (mph). No rounding is necessary.\n",
    "\n",
    "Examples\n",
    "\n",
    "ave_spd(18, 20, 60) ➞ 30\n",
    "\n",
    "ave_spd(30, 10, 30) ➞ 15\n",
    "\n",
    "ave_spd(30, 8, 24) ➞ 12\n"
   ]
  },
  {
   "cell_type": "code",
   "execution_count": 114,
   "metadata": {},
   "outputs": [
    {
     "data": {
      "text/plain": [
       "30"
      ]
     },
     "execution_count": 114,
     "metadata": {},
     "output_type": "execute_result"
    }
   ],
   "source": [
    "class speed:\n",
    "    def __init__(self,a,b,c):\n",
    "        self.a=a\n",
    "        self.b=b\n",
    "        self.c=c\n",
    "    def avg(self):\n",
    "        try:\n",
    "            up=self.a/60\n",
    "            dist=self.b*up\n",
    "            total_dis=dist*2\n",
    "            down=dist/self.c\n",
    "            total_time=up+down\n",
    "            total_rate=total_dis/total_time\n",
    "            return int(total_rate)\n",
    "        except Exception as e:\n",
    "            print(e)\n",
    "q=speed(18,20,60)\n",
    "q.avg()\n",
    "\n"
   ]
  },
  {
   "cell_type": "markdown",
   "metadata": {},
   "source": [
    "4. The Kempner Function, applied to a composite number, permits to find the smallest integer greater than zero whose factorial is exactly divided by the number.\n",
    "\n",
    "kempner(6) ➞ 3\n",
    "\n",
    "1! = 1 % 6 > 0\n",
    "2! = 2 % 6 > 0\n",
    "3! = 6 % 6 === 0\n",
    "\n",
    "kempner(10) ➞ 5\n",
    "\n",
    "1! = 1 % 10 > 0\n",
    "2! = 2 % 10 > 0\n",
    "3! = 6 % 10 > 0\n",
    "4! = 24 % 10 > 0\n",
    "5! = 120 % 10 === 0\n",
    "\n",
    "A Kempner Function applied to a prime will always return the prime itself.\n",
    "\n",
    "kempner(2) ➞ 2\n",
    "kempner(5) ➞ 5\n",
    "\n",
    "Given an integer n, implement a Kempner Function.\n",
    "\n",
    "Examples\n",
    "\n",
    "kempner(6) ➞ 3\n",
    "\n",
    "kempner(10) ➞ 5\n",
    "\n",
    "kempner(2) ➞ 2\n"
   ]
  },
  {
   "cell_type": "code",
   "execution_count": 14,
   "metadata": {},
   "outputs": [
    {
     "data": {
      "text/plain": [
       "5"
      ]
     },
     "execution_count": 14,
     "metadata": {},
     "output_type": "execute_result"
    }
   ],
   "source": [
    "class kemp:\n",
    "    def __init__(self,a):\n",
    "        self.a=a\n",
    "    def kp(self):\n",
    "        try:\n",
    "            for i in range(1,self.a):\n",
    "                b=1\n",
    "                for n in range(1,i+1):\n",
    "                    b*=n\n",
    "                if b%self.a==0:\n",
    "                    return i\n",
    "        except Exception as e:\n",
    "            print(e)\n",
    "q=kemp(10)\n",
    "q.kp()\n",
    "            \n",
    "            "
   ]
  },
  {
   "cell_type": "markdown",
   "metadata": {},
   "source": [
    "5. You work in a factory, and your job is to take items from a conveyor belt and pack them into boxes. Each box can hold a maximum of 10 kgs. Given a list containing the weight (in kg) of each item, how many boxes would you need to pack all of the items?\n",
    "\n",
    "Example\n",
    "\n",
    "boxes([2, 1, 2, 5, 4, 3, 6, 1, 1, 9, 3, 2]) ➞ 5\n",
    "\n",
    "# Box 1 = [2, 1, 2, 5] (10kg)\n",
    "# Box 2 = [4, 3] (7kg)\n",
    "# Box 3 = [6, 1, 1] (8kg)\n",
    "# Box 4 = [9] (9kg)\n",
    "# Box 5 = [3, 2] (5kg)\n"
   ]
  },
  {
   "cell_type": "code",
   "execution_count": 1,
   "metadata": {},
   "outputs": [
    {
     "name": "stdout",
     "output_type": "stream",
     "text": [
      "We need 5 boxes\n",
      "Box1 has [2, 1, 2, 5], and 10kgs\n",
      "Box2 has [4, 3], and 7kgs\n",
      "Box3 has [6, 1, 1], and 8kgs\n",
      "Box4 has [9], and 9kgs\n",
      "Box5 has [3, 2], and 5kgs\n"
     ]
    }
   ],
   "source": [
    "def boxes(q):\n",
    "    l = len(q)\n",
    "    i = 0\n",
    "    a = []\n",
    "    box=[]\n",
    "    while l :\n",
    "        if sum(a)  <=  10 :\n",
    "            a.append(q[i])\n",
    "            i = i + 1\n",
    "            l = l - 1   \n",
    "        elif sum(a) > 10:\n",
    "            box.append(a[:-1:])\n",
    "            i = i - 1\n",
    "            l = l + 1\n",
    "            a.clear()\n",
    "    box.append(a)\n",
    "\n",
    "    print(\"We need {} boxes\".format(len(box)))\n",
    "    for i in range(len(box)):\n",
    "        print(\"Box{} has {}, and {}kgs\".format(i+1,box[i],sum(box[i])))\n",
    "boxes([2, 1, 2, 5, 4, 3, 6, 1, 1, 9, 3, 2])\n"
   ]
  },
  {
   "cell_type": "code",
   "execution_count": null,
   "metadata": {},
   "outputs": [],
   "source": []
  }
 ],
 "metadata": {
  "kernelspec": {
   "display_name": "Python 3",
   "language": "python",
   "name": "python3"
  },
  "language_info": {
   "codemirror_mode": {
    "name": "ipython",
    "version": 3
   },
   "file_extension": ".py",
   "mimetype": "text/x-python",
   "name": "python",
   "nbconvert_exporter": "python",
   "pygments_lexer": "ipython3",
   "version": "3.8.5"
  }
 },
 "nbformat": 4,
 "nbformat_minor": 4
}

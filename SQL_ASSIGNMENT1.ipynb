{
 "cells": [
  {
   "cell_type": "code",
   "execution_count": 1,
   "metadata": {},
   "outputs": [],
   "source": [
    "import mysql.connector as c\n",
    "mydb=c.connect(host='localhost',user='root',passwd='*22MGBEENa*')\n",
    "cursor=mydb.cursor()"
   ]
  },
  {
   "cell_type": "code",
   "execution_count": 10,
   "metadata": {},
   "outputs": [],
   "source": [
    "cursor.execute('create database today')"
   ]
  },
  {
   "cell_type": "code",
   "execution_count": 11,
   "metadata": {},
   "outputs": [],
   "source": [
    "cursor.execute('create table today.today1(FIRST_NAME VARCHAR(30),DEPARTMENT VARCHAR(30))')"
   ]
  },
  {
   "cell_type": "code",
   "execution_count": 13,
   "metadata": {},
   "outputs": [],
   "source": [
    "cursor.execute('insert into today.today1 values(\"sam\",\"tech\")')"
   ]
  },
  {
   "cell_type": "code",
   "execution_count": 14,
   "metadata": {},
   "outputs": [],
   "source": [
    "cursor.execute('insert into today.today1 values(\"sam1\",\"teaching\")')\n",
    "cursor.execute('insert into today.today1 values(\"sam2\",\"sports\")')\n",
    "cursor.execute('insert into today.today1 values(\"sam3\",\"tech\")')\n",
    "cursor.execute('insert into today.today1 values(\"sam4\",\"tech\")')\n",
    "cursor.execute('insert into today.today1 values(\"sam5\",\"sports\")')\n",
    "cursor.execute('insert into today.today1 values(\"sam6\",\"teaching\")')\n",
    "cursor.execute('insert into today.today1 values(\"sam7\",\"owner\")')\n",
    "cursor.execute('insert into today.today1 values(\"sam8\",\"author\")')\n",
    "cursor.execute('insert into today.today1 values(\"sam9\",\"student\")')\n",
    "cursor.execute('insert into today.today1 values(\"sam10\",\"sales\")')"
   ]
  },
  {
   "cell_type": "code",
   "execution_count": 15,
   "metadata": {},
   "outputs": [],
   "source": [
    "mydb.commit()"
   ]
  },
  {
   "cell_type": "code",
   "execution_count": 17,
   "metadata": {},
   "outputs": [],
   "source": [
    "cursor.execute('select * from today.today1')"
   ]
  },
  {
   "cell_type": "code",
   "execution_count": 18,
   "metadata": {},
   "outputs": [
    {
     "data": {
      "text/plain": [
       "[('sam', 'tech'),\n",
       " ('sam1', 'teaching'),\n",
       " ('sam2', 'sports'),\n",
       " ('sam3', 'tech'),\n",
       " ('sam4', 'tech'),\n",
       " ('sam5', 'sports'),\n",
       " ('sam6', 'teaching'),\n",
       " ('sam7', 'owner'),\n",
       " ('sam8', 'author'),\n",
       " ('sam9', 'student'),\n",
       " ('sam10', 'sales')]"
      ]
     },
     "execution_count": 18,
     "metadata": {},
     "output_type": "execute_result"
    }
   ],
   "source": [
    "cursor.fetchall()"
   ]
  },
  {
   "cell_type": "markdown",
   "metadata": {},
   "source": [
    "Q-1. Write an SQL query to fetch “FIRST_NAME” from Worker table using the alias name as WORKER_NAME."
   ]
  },
  {
   "cell_type": "code",
   "execution_count": 21,
   "metadata": {},
   "outputs": [],
   "source": [
    "cursor.execute('select FIRST_NAME as WORKER_NAME from today.today1 ')"
   ]
  },
  {
   "cell_type": "code",
   "execution_count": 22,
   "metadata": {},
   "outputs": [
    {
     "data": {
      "text/plain": [
       "[('sam',),\n",
       " ('sam1',),\n",
       " ('sam2',),\n",
       " ('sam3',),\n",
       " ('sam4',),\n",
       " ('sam5',),\n",
       " ('sam6',),\n",
       " ('sam7',),\n",
       " ('sam8',),\n",
       " ('sam9',),\n",
       " ('sam10',)]"
      ]
     },
     "execution_count": 22,
     "metadata": {},
     "output_type": "execute_result"
    }
   ],
   "source": [
    "cursor.fetchall()"
   ]
  },
  {
   "cell_type": "markdown",
   "metadata": {},
   "source": [
    "Q-2. Write an SQL query to fetch unique values of DEPARTMENT from Worker table."
   ]
  },
  {
   "cell_type": "code",
   "execution_count": 27,
   "metadata": {},
   "outputs": [],
   "source": [
    "cursor.execute('select DEPARTMENT from today.today1 group by DEPARTMENT')"
   ]
  },
  {
   "cell_type": "code",
   "execution_count": 28,
   "metadata": {},
   "outputs": [
    {
     "data": {
      "text/plain": [
       "[('author',),\n",
       " ('owner',),\n",
       " ('sales',),\n",
       " ('sports',),\n",
       " ('student',),\n",
       " ('teaching',),\n",
       " ('tech',)]"
      ]
     },
     "execution_count": 28,
     "metadata": {},
     "output_type": "execute_result"
    }
   ],
   "source": [
    "cursor.fetchall()"
   ]
  },
  {
   "cell_type": "markdown",
   "metadata": {},
   "source": [
    "Q-3. Write an SQL query to show the last 5 record from a table."
   ]
  },
  {
   "cell_type": "code",
   "execution_count": 36,
   "metadata": {},
   "outputs": [],
   "source": [
    "cursor.execute('select * from today.today1 order by FIRST_NAME desc limit 5')"
   ]
  },
  {
   "cell_type": "code",
   "execution_count": 37,
   "metadata": {},
   "outputs": [
    {
     "data": {
      "text/plain": [
       "[('sam9', 'student'),\n",
       " ('sam8', 'author'),\n",
       " ('sam7', 'owner'),\n",
       " ('sam6', 'teaching'),\n",
       " ('sam5', 'sports')]"
      ]
     },
     "execution_count": 37,
     "metadata": {},
     "output_type": "execute_result"
    }
   ],
   "source": [
    "cursor.fetchall()"
   ]
  },
  {
   "cell_type": "code",
   "execution_count": null,
   "metadata": {},
   "outputs": [],
   "source": []
  }
 ],
 "metadata": {
  "kernelspec": {
   "display_name": "Python 3",
   "language": "python",
   "name": "python3"
  },
  "language_info": {
   "codemirror_mode": {
    "name": "ipython",
    "version": 3
   },
   "file_extension": ".py",
   "mimetype": "text/x-python",
   "name": "python",
   "nbconvert_exporter": "python",
   "pygments_lexer": "ipython3",
   "version": "3.8.5"
  }
 },
 "nbformat": 4,
 "nbformat_minor": 4
}

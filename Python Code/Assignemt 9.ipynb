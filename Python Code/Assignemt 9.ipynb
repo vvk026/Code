{
 "cells": [
  {
   "cell_type": "markdown",
   "metadata": {},
   "source": [
    "1.\tWrite a Python program to check if the given number is a Disarium Number?"
   ]
  },
  {
   "cell_type": "code",
   "execution_count": null,
   "metadata": {},
   "outputs": [],
   "source": [
    "a=int(input())\n",
    "temp=a\n",
    "c=0\n",
    "ab=len(str(a))\n",
    "while temp!=0:\n",
    "    b=temp%10\n",
    "    c+=b**ab\n",
    "    temp//=10\n",
    "    ab+=-1\n",
    "if a==c:\n",
    "    print('Disarium Number')\n",
    "else:\n",
    "    print('Not Disarium number')\n",
    "    \n",
    "    \n",
    "    "
   ]
  },
  {
   "cell_type": "markdown",
   "metadata": {},
   "source": [
    "2.\tWrite a Python program to print all disarium numbers between 1 to 100?"
   ]
  },
  {
   "cell_type": "code",
   "execution_count": null,
   "metadata": {},
   "outputs": [],
   "source": [
    "for i in range(1,101):\n",
    "    c=0\n",
    "    temp=i\n",
    "    ab=len(str(temp))\n",
    "    while temp!=0:\n",
    "        b=temp%10\n",
    "        c+=b**ab\n",
    "        temp//=10\n",
    "        ab+=-1\n",
    "    if i==c:\n",
    "        print(i,end=' ')\n",
    "    "
   ]
  },
  {
   "cell_type": "markdown",
   "metadata": {},
   "source": [
    "3.\tWrite a Python program to check if the given number is Happy Number?"
   ]
  },
  {
   "cell_type": "code",
   "execution_count": null,
   "metadata": {},
   "outputs": [],
   "source": [
    "def Happy():\n",
    "    n=int(input())\n",
    "    a=[]\n",
    "    q=str(n)\n",
    "    while q!='1' and not(q in a):\n",
    "        a.append(q)\n",
    "        result=0\n",
    "        for i in q:\n",
    "            result+=int(i)*int(i)\n",
    "        q=str(result)\n",
    "    if q=='1':\n",
    "        print('Happy Number')\n",
    "    else:\n",
    "        print('Not an happy number')\n",
    "Happy()\n",
    "            "
   ]
  },
  {
   "cell_type": "markdown",
   "metadata": {},
   "source": [
    "5.\tWrite a Python program to determine whether the given number is a Harshad Number?"
   ]
  },
  {
   "cell_type": "code",
   "execution_count": null,
   "metadata": {},
   "outputs": [],
   "source": [
    "a=int(input())\n",
    "temp=a\n",
    "c=0\n",
    "while temp!=0:\n",
    "    b=temp%10\n",
    "    c+=b\n",
    "    temp//=10\n",
    "if a%c==0:\n",
    "    print('Harshad Number')\n",
    "else:\n",
    "    print('Not Harshad Number')\n",
    "    "
   ]
  },
  {
   "cell_type": "markdown",
   "metadata": {},
   "source": [
    "4.\tWrite a Python program to print all happy numbers between 1 and 100?"
   ]
  },
  {
   "cell_type": "code",
   "execution_count": null,
   "metadata": {},
   "outputs": [],
   "source": [
    "for i in range(1,101):\n",
    "    a=[]\n",
    "    q=str(i)\n",
    "    while q!='1' and not(q in a):\n",
    "        a.append(q)\n",
    "        result=0\n",
    "        for j in q:\n",
    "            result+=int(j)*int(j)\n",
    "        q=str(result)\n",
    "    if q=='1':\n",
    "            print(i,end=' ')"
   ]
  },
  {
   "cell_type": "markdown",
   "metadata": {},
   "source": [
    "6.\tWrite a Python program to print all pronic numbers between 1 and 100?"
   ]
  },
  {
   "cell_type": "code",
   "execution_count": null,
   "metadata": {},
   "outputs": [],
   "source": [
    "for i in range(0,101):\n",
    "    print(i*(i+1),end=' ')\n"
   ]
  },
  {
   "cell_type": "code",
   "execution_count": null,
   "metadata": {},
   "outputs": [],
   "source": []
  }
 ],
 "metadata": {
  "kernelspec": {
   "display_name": "Python 3",
   "language": "python",
   "name": "python3"
  },
  "language_info": {
   "codemirror_mode": {
    "name": "ipython",
    "version": 3
   },
   "file_extension": ".py",
   "mimetype": "text/x-python",
   "name": "python",
   "nbconvert_exporter": "python",
   "pygments_lexer": "ipython3",
   "version": "3.8.5"
  }
 },
 "nbformat": 4,
 "nbformat_minor": 4
}

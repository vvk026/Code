{
 "cells": [
  {
   "cell_type": "markdown",
   "metadata": {},
   "source": [
    "1. Rondo Form is a type of musical structure, in which there is a recurring theme/refrain, notated as A. Here are the rules for valid rondo forms:\n",
    "\n",
    "   - Rondo forms always start and end with an A section.\n",
    "   - In between the A sections, there should be contrasting sections notated as B, then C, then D, etc... No letter should be skipped.\n",
    "   - There shouldn't be any repeats in the sequence (such as ABBACCA).\n",
    "\n",
    "Create a function which validates whether a given string is a valid Rondo Form.\n",
    "\n",
    "Examples\n",
    "\n",
    "valid_rondo(\"ABACADAEAFAGAHAIAJA\") ➞ True\n",
    "\n",
    "valid_rondo(\"ABA\") ➞ True\n",
    "\n",
    "valid_rondo(\"ABBACCA\") ➞ False\n",
    "\n",
    "valid_rondo(\"ACAC\") ➞ False\n",
    "\n",
    "valid_rondo(\"A\") ➞ False\n"
   ]
  },
  {
   "cell_type": "code",
   "execution_count": null,
   "metadata": {},
   "outputs": [],
   "source": [
    "class rondo:\n",
    "    def __init__(self,a):\n",
    "        self.a=a\n",
    "    def form(self):\n",
    "        try:\n",
    "            if self.a[len(self.a)-1]!='A' or len(self.a)==1:\n",
    "                return False\n",
    "            b=66\n",
    "            for i in range(0,len(self.a),2):\n",
    "                if i==len(self.a)-1:\n",
    "                    break\n",
    "                if self.a[i]!='A' or self.a[i+1]!=chr(b):\n",
    "                    return False\n",
    "                elif self.a[i]=='A' and self.a[i+1]==chr(b):\n",
    "                        b+=1\n",
    "            return True\n",
    "        except Exception as e:\n",
    "            print(e)\n",
    "q=rondo(\"ABA\")\n",
    "q.form()"
   ]
  },
  {
   "cell_type": "markdown",
   "metadata": {},
   "source": [
    "2. Create a function that returns the whole of the first sentence which contains a specific word. Include the full stop at the end of the sentence.\n",
    "\n",
    "Examples\n",
    "\n",
    "txt = \"I have a cat. I have a mat. Things are going swell.\"\n",
    "\n",
    "sentence_searcher(txt, \"have\") ➞ \"I have a cat.\"\n",
    "\n",
    "sentence_searcher(txt, \"MAT\") ➞ \"I have a mat.\"\n",
    "\n",
    "sentence_searcher(txt, \"things\") ➞ \"Things are going swell.\"\n",
    "\n",
    "sentence_searcher(txt, \"flat\") ➞ \"\"\n"
   ]
  },
  {
   "cell_type": "code",
   "execution_count": 66,
   "metadata": {},
   "outputs": [
    {
     "data": {
      "text/plain": [
       "'Things are going swell'"
      ]
     },
     "execution_count": 66,
     "metadata": {},
     "output_type": "execute_result"
    }
   ],
   "source": [
    "class sentence:\n",
    "    def __init__(self,a,b):\n",
    "        self.a=a\n",
    "        self.b=b\n",
    "    def search(self):\n",
    "        try:\n",
    "            c=self.a.split('.')\n",
    "            for i in c:\n",
    "                if self.b.lower() in i.lower(): \n",
    "                    return i.strip()\n",
    "            return ''\n",
    "        except Exception as e:\n",
    "            print(e)   \n",
    "s=sentence(\"I have a cat. I have a mat. Things are going swell.\",'thingS')\n",
    "s.search()"
   ]
  },
  {
   "cell_type": "markdown",
   "metadata": {},
   "source": [
    "3. Given a number, find the \"round \"of each digit of the number. An integer is called \"round\" if all its digits except the leftmost (most significant) are equal to zero.\n",
    "\n",
    "    - Round numbers: 4000, 1, 9, 800, 90\n",
    "    - Not round numbers: 110, 707, 222, 1001\n",
    "\n",
    "Create a function that takes a number and returns the \"round\" of each digit (except if the digit is zero) as a string. Check out the following examples for more clarification.\n",
    "\n",
    "Examples\n",
    "\n",
    "sum_round(101) ➞ \"1 100\"\n",
    "\n",
    "sum_round(1234) ➞ \"4 30 200 1000\"\n",
    "\n",
    "sum_round(54210) ➞ \"10 200 4000 50000\"\n"
   ]
  },
  {
   "cell_type": "code",
   "execution_count": 99,
   "metadata": {},
   "outputs": [
    {
     "data": {
      "text/plain": [
       "'4 30 200 1000'"
      ]
     },
     "execution_count": 99,
     "metadata": {},
     "output_type": "execute_result"
    }
   ],
   "source": [
    "import math\n",
    "class Round:\n",
    "    def __init__(self,a):\n",
    "        self.a=a\n",
    "    def round_sum(self):\n",
    "        try:\n",
    "            b=str(self.a)\n",
    "            l=''\n",
    "            c=0\n",
    "            for i in b[::-1]:\n",
    "                if i=='0':\n",
    "                    c+=1\n",
    "                    pass\n",
    "                else:\n",
    "                    l+=str(int(i)*int(math.pow(10,c)))+\" \"\n",
    "                    c+=1\n",
    "                    if c==len(b):\n",
    "                        break\n",
    "            return l.strip()\n",
    "        except Exception as e:\n",
    "            print(e)\n",
    "q=Round(1234)\n",
    "q.round_sum()"
   ]
  },
  {
   "cell_type": "markdown",
   "metadata": {},
   "source": [
    "4. Your task, is to create N x N multiplication table, of size n provided in parameter.\n",
    "\n",
    "For example, when n is 5, the multiplication table is:\n",
    "\n",
    "   - 1, 2, 3, 4, 5\n",
    "   - 2, 4, 6, 8, 10\n",
    "   - 3, 6, 9, 12, 15\n",
    "   - 4, 8, 12, 16, 20\n",
    "   - 5, 10, 15, 20, 25\n",
    "\n",
    "This example will result in:\n",
    "\n",
    "[[1, 2, 3, 4, 5], [2, 4, 6, 8, 10], [3, 6, 9, 12, 15], [4, 8, 12, 16, 20], [5, 10, 15, 20, 25]]\n",
    "\n",
    "Examples\n",
    "\n",
    "multiplication_table(1) ➞ [[1]]\n",
    "\n",
    "multiplication_table(3) ➞ [[1, 2, 3], [2, 4, 6], [3, 6, 9]]\n"
   ]
  },
  {
   "cell_type": "code",
   "execution_count": 114,
   "metadata": {},
   "outputs": [
    {
     "data": {
      "text/plain": [
       "[[1, 2, 3], [2, 4, 6], [3, 6, 9]]"
      ]
     },
     "execution_count": 114,
     "metadata": {},
     "output_type": "execute_result"
    }
   ],
   "source": [
    "class mul:\n",
    "    def __init__(self,a):\n",
    "        self.a=a\n",
    "    def table(self):\n",
    "        try:\n",
    "            l=[]\n",
    "            for i in range(1,self.a+1):\n",
    "                d=[]\n",
    "                for j in range(1,self.a+1):\n",
    "                    d.append(i*j)\n",
    "                l.append(d)\n",
    "            return l\n",
    "        except Exception as e:\n",
    "            print(e)\n",
    "qw=mul(3)\n",
    "qw.table()"
   ]
  },
  {
   "cell_type": "markdown",
   "metadata": {},
   "source": [
    "5. Create a function that returns True if two lines rhyme and False otherwise. For the purposes of this exercise, two lines rhyme if the last word from each sentence contains the same vowels.\n",
    "\n",
    "Examples\n",
    "\n",
    "does_rhyme(\"Sam I am!\", \"Green eggs and ham.\") ➞ True\n",
    "\n",
    "does_rhyme(\"Sam I am!\", \"Green eggs and HAM.\") ➞ True\n",
    "# Capitalization and punctuation should not matter.\n",
    "\n",
    "does_rhyme(\"You are off to the races\", \"a splendid day.\") ➞ False\n"
   ]
  },
  {
   "cell_type": "code",
   "execution_count": 123,
   "metadata": {},
   "outputs": [
    {
     "data": {
      "text/plain": [
       "False"
      ]
     },
     "execution_count": 123,
     "metadata": {},
     "output_type": "execute_result"
    }
   ],
   "source": [
    "class vow:\n",
    "    def __init__(self,a,b):\n",
    "        self.a=a\n",
    "        self.b=b\n",
    "    def rythm(self):\n",
    "        try:\n",
    "            e=[]\n",
    "            f=[]\n",
    "            c=self.a.split(' ')\n",
    "            d=self.b.split(' ')\n",
    "            for i in c[len(c)-1]:\n",
    "                if i in 'aeiouAEIOU':\n",
    "                    e.append(i.lower())\n",
    "            for j in d[len(d)-1]:\n",
    "                if j in 'AEIOUaeiou':\n",
    "                    f.append(j.lower())\n",
    "            if e==f:\n",
    "                return True\n",
    "            else:\n",
    "                return False\n",
    "        except Exception as e:\n",
    "            print(e)\n",
    "q=vow(\"You are off to the races\", \"a splendid day.\")\n",
    "q.rythm()\n",
    "                    \n",
    "                    "
   ]
  }
 ],
 "metadata": {
  "kernelspec": {
   "display_name": "Python 3",
   "language": "python",
   "name": "python3"
  },
  "language_info": {
   "codemirror_mode": {
    "name": "ipython",
    "version": 3
   },
   "file_extension": ".py",
   "mimetype": "text/x-python",
   "name": "python",
   "nbconvert_exporter": "python",
   "pygments_lexer": "ipython3",
   "version": "3.8.5"
  }
 },
 "nbformat": 4,
 "nbformat_minor": 4
}

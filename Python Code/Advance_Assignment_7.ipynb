{
 "cells": [
  {
   "cell_type": "markdown",
   "metadata": {},
   "source": [
    "1. Write a function that counts how many concentric layers a rug.\n",
    "\n",
    "Examples\n",
    "\n",
    "count_layers([\n",
    "  \"AAAA\",\n",
    "  \"ABBA\",\n",
    "  \"AAAA\"\n",
    "]) ➞ 2\n",
    "\n",
    "count_layers([\n",
    "  \"AAAAAAAAA\",\n",
    "  \"ABBBBBBBA\",\n",
    "  \"ABBAAABBA\",\n",
    "  \"ABBBBBBBA\",\n",
    "  \"AAAAAAAAA\"\n",
    "]) ➞ 3\n",
    "\n",
    "count_layers([\n",
    "  \"AAAAAAAAAAA\",\n",
    "  \"AABBBBBBBAA\",\n",
    "  \"AABCCCCCBAA\",\n",
    "  \"AABCAAACBAA\",\n",
    "  \"AABCADACBAA\",\n",
    "  \"AABCAAACBAA\",\n",
    "  \"AABCCCCCBAA\",\n",
    "  \"AABBBBBBBAA\",\n",
    "  \"AAAAAAAAAAA\"\n",
    "]) ➞ 5\n"
   ]
  },
  {
   "cell_type": "code",
   "execution_count": null,
   "metadata": {},
   "outputs": [],
   "source": [
    "class con:\n",
    "    def __init__(self,a):\n",
    "        self.a=a\n",
    "    def cl(self):\n",
    "        try:\n",
    "            if len(self.a)%2==0:\n",
    "                print('Cannot get concentric layers')\n",
    "            else:\n",
    "                m=len(self.a)//2\n",
    "                i=0\n",
    "                c=0\n",
    "                q=len(self.a)\n",
    "                while i<=m:\n",
    "                    if self.a[i]==self.a[q-1]:\n",
    "                        i+=1\n",
    "                        c+=1\n",
    "                        q+=-1\n",
    "                    else:\n",
    "                        print('no same conc')\n",
    "                        return False\n",
    "                return c\n",
    "        except Exception as e:\n",
    "            print(e)\n",
    "w=con([ \"AAAAAAAAAAA\", \"AABBBBBBBAA\", \"AABCCCCCBAA\", \"AABCAAACBAA\", \"AABCADACBAA\", \"AABCAAACBAA\", \"AABCCCCCBAA\", \"AABBBBBBBAA\", \"AAAAAAAAAAA\" ])\n",
    "w.cl()\n",
    "                    \n",
    "            "
   ]
  },
  {
   "cell_type": "markdown",
   "metadata": {},
   "source": [
    "2. There are many different styles of music and many albums exhibit multiple styles. Create a function that takes a list of musical styles from albums and returns how many styles are unique.\n",
    "\n",
    "Examples\n",
    "\n",
    "unique_styles([\n",
    "  \"Dub,Dancehall\",\n",
    "  \"Industrial,Heavy Metal\",\n",
    "  \"Techno,Dubstep\",\n",
    "  \"Synth-pop,Euro-Disco\",\n",
    "  \"Industrial,Techno,Minimal\"\n",
    "]) ➞ 9\n",
    "\n",
    "unique_styles([\n",
    "  \"Soul\",\n",
    "  \"House,Folk\",\n",
    "  \"Trance,Downtempo,Big Beat,House\",\n",
    "  \"Deep House\",\n",
    "  \"Soul\"\n",
    "]) ➞ 7\n"
   ]
  },
  {
   "cell_type": "code",
   "execution_count": null,
   "metadata": {},
   "outputs": [],
   "source": [
    "class style:\n",
    "    def __init__(self,a):\n",
    "        self.a=a\n",
    "    def unique(self):\n",
    "        try:\n",
    "            l=[]\n",
    "            for i in c:\n",
    "                l.extend(i.split(','))\n",
    "            return len(set(l))\n",
    "        except Exception as e:\n",
    "            print(e)\n",
    "we=style([ \"Soul\", \"House,Folk\", \"Trance,Downtempo,Big Beat,House\", \"Deep House\", \"Soul\" ])\n",
    "we.unique()\n",
    "\n"
   ]
  },
  {
   "cell_type": "markdown",
   "metadata": {},
   "source": [
    "3. Create a function that finds a target number in a list of prime numbers. Implement a binary search algorithm in your function. The target number will be from 2 through 97. If the target is prime then return \"yes\" else return \"no\".\n",
    "\n",
    "Examples\n",
    "\n",
    "primes = [2, 3, 5, 7, 11, 13, 17, 19, 23, 29, 31, 37, 41, 43, 47, 53, 59, 61, 67, 71, 73, 79, 83, 89, 97]\n",
    "\n",
    "\n",
    "is_prime(primes, 3) ➞ \"yes\"\n",
    "\n",
    "is_prime(primes, 4) ➞ \"no\"\n",
    "\n",
    "is_prime(primes, 67) ➞ \"yes\"\n",
    "\n",
    "is_prime(primes, 36) ➞ \"no\"\n"
   ]
  },
  {
   "cell_type": "code",
   "execution_count": null,
   "metadata": {},
   "outputs": [],
   "source": [
    "class p:\n",
    "    def __init__(self,a):\n",
    "        self.a=a\n",
    "    def prime(self):\n",
    "        try:\n",
    "            l=[]\n",
    "            for i in range(2,98):\n",
    "                c=0\n",
    "                if i%1==0:\n",
    "                    for j in range(2,98):\n",
    "                        if i%j==0:\n",
    "                            c+=1\n",
    "                if c==1:\n",
    "                    l.append(i)\n",
    "            if self.a in l:\n",
    "                return 'Yes'\n",
    "            else:\n",
    "                return 'No'\n",
    "        except Exception as e:\n",
    "            print(e)\n",
    "w1=p(88)\n",
    "w1.prime()"
   ]
  },
  {
   "cell_type": "markdown",
   "metadata": {},
   "source": [
    "5. Given a number, return the difference between the maximum and minimum numbers that can be formed when the digits are rearranged.\n",
    "\n",
    "Examples\n",
    "\n",
    "rearranged_difference(972882) ➞ 760833\n",
    "# 988722 - 227889 = 760833\n",
    "\n",
    "rearranged_difference(3320707) ➞ 7709823\n",
    "# 7733200 - 23377 = 7709823\n",
    "\n",
    "rearranged_difference(90010) ➞ 90981\n",
    "# 91000 - 19 = 90981\n",
    "\n"
   ]
  },
  {
   "cell_type": "code",
   "execution_count": 19,
   "metadata": {},
   "outputs": [
    {
     "data": {
      "text/plain": [
       "7709823"
      ]
     },
     "execution_count": 19,
     "metadata": {},
     "output_type": "execute_result"
    }
   ],
   "source": [
    "class small:\n",
    "    def __init__(self,a):\n",
    "        self.a=a\n",
    "    def diff(self):\n",
    "        try:\n",
    "            b=list(str(self.a))\n",
    "            b.sort()\n",
    "            b3=''.join(b)\n",
    "            b.sort(reverse=True)\n",
    "            b4=''.join(b)\n",
    "            return int(b4)-int(b3)\n",
    "        except Exception as e:\n",
    "            print(e)\n",
    "wr=small(3320707)\n",
    "wr.diff()"
   ]
  },
  {
   "cell_type": "markdown",
   "metadata": {},
   "source": [
    "4. Create a function that takes in n, a, b and returns the number of positive values raised to the nth power that lie in the range [a, b], inclusive.\n",
    "\n",
    "Examples\n",
    "\n",
    "power_ranger(2, 49, 65) ➞ 2\n",
    "# 2 squares (n^2) lie between 49 and 65, 49 (7^2) and 64 (8^2)\n",
    "\n",
    "power_ranger(3, 1, 27) ➞ 3\n",
    "# 3 cubes (n^3) lie between 1 and 27, 1 (1^3), 8 (2^3) and 27 (3^3)\n",
    "\n",
    "power_ranger(10, 1, 5) ➞ 1\n",
    "# 1 value raised to the 10th power lies between 1 and 5, 1 (1^10)\n",
    "\n",
    "power_ranger(5, 31, 33) ➞ 1\n",
    "\n",
    "power_ranger(4, 250, 1300) ➞ 3\n"
   ]
  },
  {
   "cell_type": "code",
   "execution_count": 6,
   "metadata": {},
   "outputs": [
    {
     "data": {
      "text/plain": [
       "2"
      ]
     },
     "execution_count": 6,
     "metadata": {},
     "output_type": "execute_result"
    }
   ],
   "source": [
    "class power:\n",
    "    def __init__(self,a,b,c):\n",
    "        self.a=a\n",
    "        self.b=b\n",
    "        self.c=c\n",
    "    def power1(self):\n",
    "        try:\n",
    "            c=0\n",
    "            for i in range(self.c):\n",
    "                if i**self.a in range(self.b,self.c+1):\n",
    "                    c+=1\n",
    "            return c\n",
    "        except Exception as e:\n",
    "            print(e)\n",
    "q=power(2,49,65)\n",
    "q.power1()\n",
    "                "
   ]
  },
  {
   "cell_type": "code",
   "execution_count": null,
   "metadata": {},
   "outputs": [],
   "source": []
  }
 ],
 "metadata": {
  "kernelspec": {
   "display_name": "Python 3",
   "language": "python",
   "name": "python3"
  },
  "language_info": {
   "codemirror_mode": {
    "name": "ipython",
    "version": 3
   },
   "file_extension": ".py",
   "mimetype": "text/x-python",
   "name": "python",
   "nbconvert_exporter": "python",
   "pygments_lexer": "ipython3",
   "version": "3.8.5"
  }
 },
 "nbformat": 4,
 "nbformat_minor": 4
}

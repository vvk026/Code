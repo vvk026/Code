{
 "cells": [
  {
   "cell_type": "markdown",
   "metadata": {},
   "source": [
    "1.\tWrite a Python program to convert kilometers to miles?"
   ]
  },
  {
   "cell_type": "code",
   "execution_count": 4,
   "metadata": {},
   "outputs": [
    {
     "name": "stdout",
     "output_type": "stream",
     "text": [
      "10\n"
     ]
    },
    {
     "data": {
      "text/plain": [
       "'10km converted to 6.21371 mile'"
      ]
     },
     "execution_count": 4,
     "metadata": {},
     "output_type": "execute_result"
    }
   ],
   "source": [
    "def convert_km_miles():\n",
    "    try:\n",
    "        km=int(input())\n",
    "        mile=km*0.621371\n",
    "        return f\"{km}km converted to {mile} mile\"\n",
    "    except Exception as e:\n",
    "        print(e)\n",
    "convert_km_miles()"
   ]
  },
  {
   "cell_type": "markdown",
   "metadata": {},
   "source": [
    "2.\tWrite a Python program to convert Celsius to Fahrenheit?"
   ]
  },
  {
   "cell_type": "code",
   "execution_count": 5,
   "metadata": {},
   "outputs": [
    {
     "name": "stdout",
     "output_type": "stream",
     "text": [
      "Enter celsius amount :10\n"
     ]
    },
    {
     "data": {
      "text/plain": [
       "'10 Celsius_to_ 50.0 Fahrenheit'"
      ]
     },
     "execution_count": 5,
     "metadata": {},
     "output_type": "execute_result"
    }
   ],
   "source": [
    "def convert_Celsius_to_Fahrenheit():\n",
    "    try:\n",
    "        c=int(input('Enter celsius amount :'))\n",
    "        f=(((c*9)/5)+32)\n",
    "        return f\"{c} Celsius_to_ {f} Fahrenheit\"\n",
    "    except Exception as e:\n",
    "        print(e)\n",
    "convert_Celsius_to_Fahrenheit()\n",
    "        "
   ]
  },
  {
   "cell_type": "markdown",
   "metadata": {},
   "source": [
    "3.\tWrite a Python program to display calendar?"
   ]
  },
  {
   "cell_type": "code",
   "execution_count": 12,
   "metadata": {},
   "outputs": [
    {
     "name": "stdout",
     "output_type": "stream",
     "text": [
      "Enter the year2022\n",
      "Enter the month to display2\n",
      "\n",
      "   February 2022\n",
      "Mo Tu We Th Fr Sa Su\n",
      "    1  2  3  4  5  6\n",
      " 7  8  9 10 11 12 13\n",
      "14 15 16 17 18 19 20\n",
      "21 22 23 24 25 26 27\n",
      "28\n",
      "\n"
     ]
    }
   ],
   "source": [
    "import calendar\n",
    "def cal_ender():\n",
    "    try:\n",
    "        year=int(input(\"Enter the year\"))\n",
    "        month=int(input(\"Enter the month to display\"))\n",
    "        print(\"\")\n",
    "        print(calendar.month(year,month))\n",
    "    except Exception as e:\n",
    "        print(e)\n",
    "cal_ender()"
   ]
  },
  {
   "cell_type": "markdown",
   "metadata": {},
   "source": [
    "4.\tWrite a Python program to solve quadratic equation?"
   ]
  },
  {
   "cell_type": "code",
   "execution_count": 19,
   "metadata": {},
   "outputs": [
    {
     "name": "stdout",
     "output_type": "stream",
     "text": [
      "Enter first number10\n",
      "Enter second number20\n",
      "Enter third number30\n"
     ]
    },
    {
     "data": {
      "text/plain": [
       "((-100+141.4213562373095j), (-100-141.4213562373095j))"
      ]
     },
     "execution_count": 19,
     "metadata": {},
     "output_type": "execute_result"
    }
   ],
   "source": [
    "import cmath\n",
    "def quadratic_equation():\n",
    "    try:\n",
    "        a=int(input(\"Enter first number\"))\n",
    "        b=int(input(\"Enter second number\"))\n",
    "        c=int(input(\"Enter third number\"))\n",
    "        d=((b**2)-4*a*c)\n",
    "        sol1=((-b+cmath.sqrt(d))/2*a)\n",
    "        sol2=((-b-cmath.sqrt(d))/2*a)\n",
    "        return sol1,sol2\n",
    "    except Exception as e:\n",
    "        print(e)\n",
    "quadratic_equation()"
   ]
  },
  {
   "cell_type": "markdown",
   "metadata": {},
   "source": [
    "5.\tWrite a Python program to swap two variables without temp variable?"
   ]
  },
  {
   "cell_type": "code",
   "execution_count": 21,
   "metadata": {},
   "outputs": [
    {
     "name": "stdout",
     "output_type": "stream",
     "text": [
      "Enter first number to swap10\n",
      "Enter second number to swap20\n",
      "Before swapping a is 10 and b is 20 \n",
      "After swapping a is 20 and b is 10\n"
     ]
    }
   ],
   "source": [
    "def swap():\n",
    "    try:\n",
    "        a=int(input(\"Enter first number to swap\"))\n",
    "        b=int(input(\"Enter second number to swap\"))\n",
    "        print(f\"Before swapping a is {a} and b is {b} \")\n",
    "        print(f\"After swapping a is {b} and b is {a}\")\n",
    "    except Exception as e:\n",
    "        print(e)\n",
    "swap()"
   ]
  }
 ],
 "metadata": {
  "kernelspec": {
   "display_name": "Python 3",
   "language": "python",
   "name": "python3"
  },
  "language_info": {
   "codemirror_mode": {
    "name": "ipython",
    "version": 3
   },
   "file_extension": ".py",
   "mimetype": "text/x-python",
   "name": "python",
   "nbconvert_exporter": "python",
   "pygments_lexer": "ipython3",
   "version": "3.8.5"
  }
 },
 "nbformat": 4,
 "nbformat_minor": 4
}

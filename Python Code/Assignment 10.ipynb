{
 "cells": [
  {
   "cell_type": "markdown",
   "metadata": {},
   "source": [
    "1.\tWrite a Python program to find sum of elements in list?"
   ]
  },
  {
   "cell_type": "code",
   "execution_count": 17,
   "metadata": {},
   "outputs": [
    {
     "data": {
      "text/plain": [
       "558"
      ]
     },
     "execution_count": 17,
     "metadata": {},
     "output_type": "execute_result"
    }
   ],
   "source": [
    "def ad(*args):\n",
    "    l=0\n",
    "    try:\n",
    "        for i in args:\n",
    "            for j in i:\n",
    "                l+=j\n",
    "        return l\n",
    "    except Exception as e:\n",
    "        print(e)\n",
    "ad([11,12,34,45,67,89,100,200])\n",
    "            \n",
    "        "
   ]
  },
  {
   "cell_type": "markdown",
   "metadata": {},
   "source": [
    "2.\tWrite a Python program to  Multiply all numbers in the list?"
   ]
  },
  {
   "cell_type": "code",
   "execution_count": 20,
   "metadata": {},
   "outputs": [
    {
     "data": {
      "text/plain": [
       "180900000"
      ]
     },
     "execution_count": 20,
     "metadata": {},
     "output_type": "execute_result"
    }
   ],
   "source": [
    "def ad(*args):\n",
    "    l=1\n",
    "    try:\n",
    "        for i in args:\n",
    "            for j in i:\n",
    "                l*=j\n",
    "        return l\n",
    "    except Exception as e:\n",
    "        print(e)\n",
    "ad([100,2,300,45,67])\n",
    "            "
   ]
  },
  {
   "cell_type": "markdown",
   "metadata": {},
   "source": [
    "3.\tWrite a Python program to find smallest number in a list?"
   ]
  },
  {
   "cell_type": "code",
   "execution_count": 22,
   "metadata": {},
   "outputs": [
    {
     "data": {
      "text/plain": [
       "1"
      ]
     },
     "execution_count": 22,
     "metadata": {},
     "output_type": "execute_result"
    }
   ],
   "source": [
    "def ad(*args):\n",
    "    l=[]\n",
    "    try:\n",
    "        for i in args:\n",
    "            for j in i:\n",
    "                l.append(j)\n",
    "        return min(l)\n",
    "    except Exception as e:\n",
    "        print(e)\n",
    "ad([100,2,300,45,67,1])"
   ]
  },
  {
   "cell_type": "markdown",
   "metadata": {},
   "source": [
    "4.\tWrite a Python program to find largest number in a list?"
   ]
  },
  {
   "cell_type": "code",
   "execution_count": 23,
   "metadata": {},
   "outputs": [
    {
     "data": {
      "text/plain": [
       "300"
      ]
     },
     "execution_count": 23,
     "metadata": {},
     "output_type": "execute_result"
    }
   ],
   "source": [
    "def ad(*args):\n",
    "    l=[]\n",
    "    try:\n",
    "        for i in args:\n",
    "            for j in i:\n",
    "                l.append(j)\n",
    "        return max(l)\n",
    "    except Exception as e:\n",
    "        print(e)\n",
    "ad([100,2,300,45,67,1])"
   ]
  },
  {
   "cell_type": "markdown",
   "metadata": {},
   "source": [
    "5.\tWrite a Python program to find second largest number in a list?"
   ]
  },
  {
   "cell_type": "code",
   "execution_count": 29,
   "metadata": {},
   "outputs": [
    {
     "data": {
      "text/plain": [
       "101"
      ]
     },
     "execution_count": 29,
     "metadata": {},
     "output_type": "execute_result"
    }
   ],
   "source": [
    "def ad(*args):\n",
    "    l=[]\n",
    "    try:\n",
    "        for i in args:\n",
    "            for j in i:\n",
    "                l.append(j)\n",
    "        l.sort(reverse=True)\n",
    "        return l[1]\n",
    "    except Exception as e:\n",
    "        print(e)\n",
    "ad([100,101,2,300,45,67,1])"
   ]
  },
  {
   "cell_type": "markdown",
   "metadata": {},
   "source": [
    "6.\tWrite a Python program to find N largest elements from a list?"
   ]
  },
  {
   "cell_type": "code",
   "execution_count": 30,
   "metadata": {},
   "outputs": [
    {
     "name": "stdout",
     "output_type": "stream",
     "text": [
      "3\n"
     ]
    },
    {
     "data": {
      "text/plain": [
       "[300, 101, 100]"
      ]
     },
     "execution_count": 30,
     "metadata": {},
     "output_type": "execute_result"
    }
   ],
   "source": [
    "def ad(*args):\n",
    "    n=int(input())\n",
    "    l=[]\n",
    "    try:\n",
    "        for i in args:\n",
    "            for j in i:\n",
    "                l.append(j)\n",
    "        l.sort(reverse=True)\n",
    "        return l[0:n]\n",
    "    except Exception as e:\n",
    "        print(e)\n",
    "ad([100,101,2,300,45,67,1])"
   ]
  },
  {
   "cell_type": "markdown",
   "metadata": {},
   "source": [
    "7.\tWrite a Python program to print even numbers in a list?"
   ]
  },
  {
   "cell_type": "code",
   "execution_count": 35,
   "metadata": {},
   "outputs": [
    {
     "data": {
      "text/plain": [
       "[100, 2, 300, 4, 6]"
      ]
     },
     "execution_count": 35,
     "metadata": {},
     "output_type": "execute_result"
    }
   ],
   "source": [
    "def ad(*args):\n",
    "    l=[]\n",
    "    try:\n",
    "        for i in args:\n",
    "            for j in i:\n",
    "                if j%2==0:\n",
    "                    l.append(j)\n",
    "                else:\n",
    "                    pass\n",
    "        return l\n",
    "    except Exception as e:\n",
    "        print(e)\n",
    "ad([100,101,2,300,45,67,1,4,6])"
   ]
  },
  {
   "cell_type": "markdown",
   "metadata": {},
   "source": [
    "8.\tWrite a Python program to print odd numbers in a List?"
   ]
  },
  {
   "cell_type": "code",
   "execution_count": 37,
   "metadata": {},
   "outputs": [
    {
     "data": {
      "text/plain": [
       "[101, 45, 67, 1, 3]"
      ]
     },
     "execution_count": 37,
     "metadata": {},
     "output_type": "execute_result"
    }
   ],
   "source": [
    "def ad(*args):\n",
    "    l=[]\n",
    "    try:\n",
    "        for i in args:\n",
    "            for j in i:\n",
    "                if j%2!=0:\n",
    "                    l.append(j)\n",
    "                else:\n",
    "                    pass\n",
    "        return l\n",
    "    except Exception as e:\n",
    "        print(e)\n",
    "ad([100,101,2,300,45,67,1,4,6,3])"
   ]
  },
  {
   "cell_type": "markdown",
   "metadata": {},
   "source": [
    "9.\tWrite a Python program to Remove empty List from List?"
   ]
  },
  {
   "cell_type": "code",
   "execution_count": 79,
   "metadata": {},
   "outputs": [
    {
     "data": {
      "text/plain": [
       "[11, 12, 34, 45, 67, 89, 100, 200, [12, 34], 12]"
      ]
     },
     "execution_count": 79,
     "metadata": {},
     "output_type": "execute_result"
    }
   ],
   "source": [
    "def ad(*args):\n",
    "    l=[]\n",
    "    try:\n",
    "        for i in args:\n",
    "            for j in i:\n",
    "                if type(j)==int or len(j)!=0:\n",
    "                    l.append(j)\n",
    "        return l\n",
    "    except Exception as e:\n",
    "        print(e)\n",
    "ad([11,12,34,45,67,89,100,200,[],[12,34],[]],[],[12])\n",
    "                  "
   ]
  },
  {
   "cell_type": "markdown",
   "metadata": {},
   "source": [
    "10.\tWrite a Python program to Cloning or Copying a list?"
   ]
  },
  {
   "cell_type": "code",
   "execution_count": 81,
   "metadata": {},
   "outputs": [
    {
     "data": {
      "text/plain": [
       "[11, 12, 34, 45, 67, 89, 100, 200]"
      ]
     },
     "execution_count": 81,
     "metadata": {},
     "output_type": "execute_result"
    }
   ],
   "source": [
    "def ad(*args):\n",
    "    l=[]\n",
    "    try:\n",
    "        for i in args:\n",
    "            for j in i:\n",
    "                l.append(j)\n",
    "            l1=l.copy()\n",
    "        return l1\n",
    "    except Exception as e:\n",
    "        print(e)\n",
    "ad([11,12,34,45,67,89,100,200])"
   ]
  },
  {
   "cell_type": "markdown",
   "metadata": {},
   "source": [
    "11.\tWrite a Python program to Count occurrences of an element in a list?"
   ]
  },
  {
   "cell_type": "code",
   "execution_count": 86,
   "metadata": {},
   "outputs": [
    {
     "name": "stdout",
     "output_type": "stream",
     "text": [
      "34\n"
     ]
    },
    {
     "data": {
      "text/plain": [
       "4"
      ]
     },
     "execution_count": 86,
     "metadata": {},
     "output_type": "execute_result"
    }
   ],
   "source": [
    "def ad(*args):\n",
    "    n=int(input())\n",
    "    c=0\n",
    "    l=[]\n",
    "    try:\n",
    "        for i in args:\n",
    "            for j in i:\n",
    "                if j ==n:\n",
    "                    c+=1\n",
    "        return c\n",
    "    except Exception as e:\n",
    "        print(e)\n",
    "ad([11,11,11,11,12,34,45,67,89,100,200,34],[34,34])"
   ]
  }
 ],
 "metadata": {
  "kernelspec": {
   "display_name": "Python 3",
   "language": "python",
   "name": "python3"
  },
  "language_info": {
   "codemirror_mode": {
    "name": "ipython",
    "version": 3
   },
   "file_extension": ".py",
   "mimetype": "text/x-python",
   "name": "python",
   "nbconvert_exporter": "python",
   "pygments_lexer": "ipython3",
   "version": "3.8.5"
  }
 },
 "nbformat": 4,
 "nbformat_minor": 4
}

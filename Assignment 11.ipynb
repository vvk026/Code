{
 "cells": [
  {
   "cell_type": "markdown",
   "metadata": {},
   "source": [
    "1.\tWrite a Python program to find words which are greater than given length k?"
   ]
  },
  {
   "cell_type": "code",
   "execution_count": null,
   "metadata": {},
   "outputs": [],
   "source": [
    "def aq():\n",
    "    a=input()\n",
    "    k=int(input())\n",
    "    l=[]\n",
    "    b=a.split(',')\n",
    "    for i in b:\n",
    "        if len(i)>k:\n",
    "            l.append(i)\n",
    "    return l\n",
    "aq()"
   ]
  },
  {
   "cell_type": "markdown",
   "metadata": {},
   "source": [
    "2.\tWrite a Python program for removing i-th character from a string?"
   ]
  },
  {
   "cell_type": "code",
   "execution_count": null,
   "metadata": {},
   "outputs": [],
   "source": [
    "def aw():\n",
    "    i=int(input())\n",
    "    b=input()\n",
    "    l=[]\n",
    "    m=[]\n",
    "    for c in b:\n",
    "        l.append(c)\n",
    "    l[i]=[]\n",
    "    for j in l:\n",
    "        if type(j)==list and len(j)==0:\n",
    "            pass\n",
    "        else:\n",
    "            m.append(j)\n",
    "    s=''.join(m)\n",
    "            \n",
    "    return s\n",
    "aw()"
   ]
  },
  {
   "cell_type": "markdown",
   "metadata": {},
   "source": [
    "3.\tWrite a Python program to split and join a string?"
   ]
  },
  {
   "cell_type": "code",
   "execution_count": null,
   "metadata": {},
   "outputs": [],
   "source": [
    "a=input()\n",
    "b=a.split(' ')\n",
    "print(b)\n",
    "c=' '.join(b)\n",
    "print(c)"
   ]
  },
  {
   "cell_type": "markdown",
   "metadata": {},
   "source": [
    "4.\tWrite a Python to check if a given string is binary string or not?"
   ]
  },
  {
   "cell_type": "code",
   "execution_count": null,
   "metadata": {},
   "outputs": [],
   "source": [
    "def ai():\n",
    "    a=int(input())\n",
    "    c=str(a)\n",
    "    ct=0\n",
    "    for i in range(2,10):\n",
    "        d=str(i)\n",
    "        if d in c:\n",
    "            ct+=1\n",
    "    if ct==0:\n",
    "        print('binary string')\n",
    "    else:\n",
    "        print('not Binary string')\n",
    "    \n",
    "ai()"
   ]
  },
  {
   "cell_type": "markdown",
   "metadata": {},
   "source": [
    "5.\tWrite a Python program to find uncommon words from two Strings?"
   ]
  },
  {
   "cell_type": "code",
   "execution_count": null,
   "metadata": {},
   "outputs": [],
   "source": [
    "a=input()\n",
    "b=input()\n",
    "d=a.split(' ')\n",
    "e=b.split(' ')\n",
    "l=[]\n",
    "for i in d:\n",
    "    l.append(i)\n",
    "for j in e:\n",
    "    if j in l:\n",
    "        l.remove(j)\n",
    "    else:\n",
    "        l.append(j)\n",
    "print(l)"
   ]
  },
  {
   "cell_type": "markdown",
   "metadata": {},
   "source": [
    "6.\tWrite a Python to find all duplicate characters in string?"
   ]
  },
  {
   "cell_type": "code",
   "execution_count": null,
   "metadata": {},
   "outputs": [],
   "source": [
    "a=input()\n",
    "l=[]\n",
    "m=[]\n",
    "for i in a:\n",
    "    if i not in l:\n",
    "        l.append(i)\n",
    "    else:\n",
    "        m.append(i)\n",
    "        \n",
    "print(m)\n",
    "    "
   ]
  },
  {
   "cell_type": "markdown",
   "metadata": {},
   "source": [
    "7.\tWrite a Python Program to check if a string contains any special character?"
   ]
  },
  {
   "cell_type": "code",
   "execution_count": null,
   "metadata": {},
   "outputs": [],
   "source": [
    "a=input()\n",
    "b='!@#$%^&*'\n",
    "c=0\n",
    "for i in a:\n",
    "    if i in b:\n",
    "        c+=1\n",
    "if c>0:\n",
    "    print('Python has special char')\n",
    "else:\n",
    "    print('Python has no special char')"
   ]
  },
  {
   "cell_type": "code",
   "execution_count": null,
   "metadata": {},
   "outputs": [],
   "source": []
  }
 ],
 "metadata": {
  "kernelspec": {
   "display_name": "Python 3",
   "language": "python",
   "name": "python3"
  },
  "language_info": {
   "codemirror_mode": {
    "name": "ipython",
    "version": 3
   },
   "file_extension": ".py",
   "mimetype": "text/x-python",
   "name": "python",
   "nbconvert_exporter": "python",
   "pygments_lexer": "ipython3",
   "version": "3.8.5"
  }
 },
 "nbformat": 4,
 "nbformat_minor": 4
}

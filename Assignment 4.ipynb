{
 "cells": [
  {
   "cell_type": "markdown",
   "metadata": {},
   "source": [
    "1.\tWrite a Python Program to Find the Factorial of a Number?"
   ]
  },
  {
   "cell_type": "code",
   "execution_count": null,
   "metadata": {},
   "outputs": [],
   "source": [
    "a=int(input())\n",
    "b=1\n",
    "for i in range(1,a+1):\n",
    "    b=b*i\n",
    "print(b)\n",
    "    "
   ]
  },
  {
   "cell_type": "markdown",
   "metadata": {},
   "source": [
    "2.\tWrite a Python Program to Display the multiplication Table?"
   ]
  },
  {
   "cell_type": "code",
   "execution_count": null,
   "metadata": {},
   "outputs": [],
   "source": [
    "a=int(input())\n",
    "for i in range(0,11):\n",
    "    b=a*i\n",
    "    print(f'Multiplication table of {a} is {a}*{i} = {b}')\n",
    "    "
   ]
  },
  {
   "cell_type": "markdown",
   "metadata": {},
   "source": [
    "3.\tWrite a Python Program to Print the Fibonacci sequence?"
   ]
  },
  {
   "cell_type": "code",
   "execution_count": null,
   "metadata": {},
   "outputs": [],
   "source": [
    "def ad():\n",
    "    a=0\n",
    "    b=1\n",
    "    n=int(input())\n",
    "    for i in range(n):\n",
    "        yield a\n",
    "        a,b=b,a+b   \n",
    "for i in ad():\n",
    "    print(i,end=' ')"
   ]
  },
  {
   "cell_type": "markdown",
   "metadata": {},
   "source": [
    "4.\tWrite a Python Program to Check Armstrong Number?"
   ]
  },
  {
   "cell_type": "code",
   "execution_count": 23,
   "metadata": {},
   "outputs": [
    {
     "name": "stdout",
     "output_type": "stream",
     "text": [
      "5\n",
      "Amstrong Number\n"
     ]
    }
   ],
   "source": [
    "a=int(input())\n",
    "temp=a\n",
    "c=0\n",
    "ab=len(str(a))\n",
    "while(a>0):\n",
    "    b=a%10\n",
    "    c+=b**ab\n",
    "    a=a//10\n",
    "if temp==c:\n",
    "    print('Amstrong Number')\n",
    "else:\n",
    "    print('No')\n",
    "    \n"
   ]
  },
  {
   "cell_type": "markdown",
   "metadata": {},
   "source": [
    "5.\tWrite a Python Program to Find Armstrong Number in an Interval?"
   ]
  },
  {
   "cell_type": "code",
   "execution_count": 20,
   "metadata": {},
   "outputs": [
    {
     "name": "stdout",
     "output_type": "stream",
     "text": [
      "100\n",
      "10000\n",
      "153\n",
      "370\n",
      "371\n",
      "407\n",
      "1634\n",
      "8208\n",
      "9474\n"
     ]
    }
   ],
   "source": [
    "a=int(input())\n",
    "b=int(input())\n",
    "for i in range(a,b):\n",
    "    ab = len(str(i))\n",
    "    d=0\n",
    "    temp=i\n",
    "    while(temp>0):\n",
    "        c=temp%10\n",
    "        d+=c**ab\n",
    "        temp//=10\n",
    "    if i==d:\n",
    "        print(i)\n"
   ]
  },
  {
   "cell_type": "markdown",
   "metadata": {},
   "source": [
    "6.\tWrite a Python Program to Find the Sum of Natural Numbers?"
   ]
  },
  {
   "cell_type": "code",
   "execution_count": 3,
   "metadata": {},
   "outputs": [
    {
     "name": "stdout",
     "output_type": "stream",
     "text": [
      "100\n",
      "5050\n"
     ]
    }
   ],
   "source": [
    "a=int(input())\n",
    "b=0\n",
    "for i in range(1,a+1):\n",
    "    b+=i\n",
    "print(b)\n",
    "    "
   ]
  },
  {
   "cell_type": "code",
   "execution_count": null,
   "metadata": {},
   "outputs": [],
   "source": []
  }
 ],
 "metadata": {
  "kernelspec": {
   "display_name": "Python 3",
   "language": "python",
   "name": "python3"
  },
  "language_info": {
   "codemirror_mode": {
    "name": "ipython",
    "version": 3
   },
   "file_extension": ".py",
   "mimetype": "text/x-python",
   "name": "python",
   "nbconvert_exporter": "python",
   "pygments_lexer": "ipython3",
   "version": "3.8.5"
  }
 },
 "nbformat": 4,
 "nbformat_minor": 4
}

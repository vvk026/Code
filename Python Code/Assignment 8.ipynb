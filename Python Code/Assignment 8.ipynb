{
 "cells": [
  {
   "cell_type": "markdown",
   "metadata": {},
   "source": [
    "1.\tWrite a Python Program to Add Two Matrices?"
   ]
  },
  {
   "cell_type": "code",
   "execution_count": 50,
   "metadata": {},
   "outputs": [
    {
     "data": {
      "text/plain": [
       "matrix([[0.44018702, 1.56161854, 0.61728355],\n",
       "        [0.8977438 , 1.25076898, 1.07479296]])"
      ]
     },
     "execution_count": 50,
     "metadata": {},
     "output_type": "execute_result"
    }
   ],
   "source": [
    "import numpy as np\n",
    "class mat:\n",
    "    def __init__(self,a,b,c):\n",
    "        self.a=a\n",
    "        self.b=b\n",
    "        self.c=c\n",
    "    def add(self):\n",
    "        try:\n",
    "            for i in range(len(self.a)):\n",
    "                for j in range(len(self.a[0])):\n",
    "                    self.c[i][j]=self.a[i][j]+self.b[i][j]\n",
    "            return self.c\n",
    "        except Exception as e:\n",
    "            print(e)\n",
    "q=mat(np.mat(np.random.rand(2,3)),np.mat(np.random.rand(2,3)),np.mat(np.zeros((2,3))))\n",
    "q.add()\n",
    "                    \n",
    "                "
   ]
  },
  {
   "cell_type": "markdown",
   "metadata": {},
   "source": [
    "2.\tWrite a Python Program to Multiply Two Matrices?"
   ]
  },
  {
   "cell_type": "code",
   "execution_count": 63,
   "metadata": {},
   "outputs": [
    {
     "name": "stdout",
     "output_type": "stream",
     "text": [
      "[114, 160, 60, 27]\n",
      "[74, 97, 73, 14]\n",
      "[119, 157, 112, 23]\n"
     ]
    }
   ],
   "source": [
    "# Program to multiply two matrices using nested loops\n",
    "\n",
    "# 3x3 matrix\n",
    "X = [[12,7,3],\n",
    "    [4 ,5,6],\n",
    "    [7 ,8,9]]\n",
    "# 3x4 matrix\n",
    "Y = [[5,8,1,2],\n",
    "    [6,7,3,0],\n",
    "    [4,5,9,1]]\n",
    "# result is 3x4\n",
    "result = [[0,0,0,0],\n",
    "         [0,0,0,0],\n",
    "         [0,0,0,0]]\n",
    "\n",
    "# iterate through rows of X\n",
    "for i in range(len(X)):\n",
    "   # iterate through columns of Y\n",
    "   for j in range(len(Y[0])):\n",
    "       # iterate through rows of Y\n",
    "       for k in range(len(Y)):\n",
    "            result[i][j] += X[i][k] * Y[k][j]\n",
    "\n",
    "for r in result:\n",
    "    print(r)\n"
   ]
  },
  {
   "cell_type": "markdown",
   "metadata": {},
   "source": [
    "3.\tWrite a Python Program to Transpose a Matrix?"
   ]
  },
  {
   "cell_type": "code",
   "execution_count": 70,
   "metadata": {},
   "outputs": [
    {
     "data": {
      "text/plain": [
       "matrix([[0.44162749, 0.55773892, 0.2087017 ],\n",
       "        [0.42900711, 0.28141744, 0.3743488 ],\n",
       "        [0.3671225 , 0.80539384, 0.32244597],\n",
       "        [0.98842114, 0.95179957, 0.43217307]])"
      ]
     },
     "execution_count": 70,
     "metadata": {},
     "output_type": "execute_result"
    }
   ],
   "source": [
    "import numpy as np\n",
    "class tr:\n",
    "    def __init__(self,a):\n",
    "        self.a=a\n",
    "    def mat(self):\n",
    "        try:\n",
    "            b=self.a.T\n",
    "            return b\n",
    "        except Exception as e:\n",
    "            print(e)\n",
    "c=tr(np.mat(np.random.rand(3,4)))\n",
    "c.mat()\n",
    "        \n"
   ]
  },
  {
   "cell_type": "markdown",
   "metadata": {},
   "source": [
    "4.\tWrite a Python Program to Sort Words in Alphabetic Order?"
   ]
  },
  {
   "cell_type": "code",
   "execution_count": 79,
   "metadata": {},
   "outputs": [
    {
     "data": {
      "text/plain": [
       "['A', 'ASA', 'as', 'dfgg', 'ert', 'hello', 'qw', 'rt']"
      ]
     },
     "execution_count": 79,
     "metadata": {},
     "output_type": "execute_result"
    }
   ],
   "source": [
    "class aplha:\n",
    "    def __init__(self,a):\n",
    "        self.a=a\n",
    "    def al(self):\n",
    "        try:\n",
    "            b=self.a.split(',')\n",
    "            c=sorted(b)\n",
    "            return c\n",
    "        except Exception as e:\n",
    "            print(e)\n",
    "q=aplha('hello,A,ASA,as,qw,ert,dfgg,rt')\n",
    "q.al()"
   ]
  },
  {
   "cell_type": "markdown",
   "metadata": {},
   "source": [
    "5.\tWrite a Python Program to Remove Punctuation From a String?"
   ]
  },
  {
   "cell_type": "code",
   "execution_count": 83,
   "metadata": {},
   "outputs": [
    {
     "data": {
      "text/plain": [
       "'heelo'"
      ]
     },
     "execution_count": 83,
     "metadata": {},
     "output_type": "execute_result"
    }
   ],
   "source": [
    "class pun:\n",
    "    def __init__(self,a):\n",
    "        self.a=a\n",
    "    def punc(self):\n",
    "        try:\n",
    "            l=[]\n",
    "            for i in self.a:\n",
    "                if i in [',','.','!','-',';',':']:\n",
    "                    pass\n",
    "                else:\n",
    "                    l.append(i)\n",
    "            return ''.join(l)\n",
    "        except Exception as e:\n",
    "            print(e)\n",
    "q=pun('he--!!!:;;;elo,,,.-!')\n",
    "q.punc()\n",
    "\n"
   ]
  },
  {
   "cell_type": "code",
   "execution_count": null,
   "metadata": {},
   "outputs": [],
   "source": []
  }
 ],
 "metadata": {
  "kernelspec": {
   "display_name": "Python 3",
   "language": "python",
   "name": "python3"
  },
  "language_info": {
   "codemirror_mode": {
    "name": "ipython",
    "version": 3
   },
   "file_extension": ".py",
   "mimetype": "text/x-python",
   "name": "python",
   "nbconvert_exporter": "python",
   "pygments_lexer": "ipython3",
   "version": "3.8.5"
  }
 },
 "nbformat": 4,
 "nbformat_minor": 4
}

{
 "cells": [
  {
   "cell_type": "markdown",
   "metadata": {},
   "source": [
    "1. In mathematics, the Fibonacci numbers, commonly denoted Fn, form a sequence, called the Fibonacci sequence, such that each number is the sum of the two preceding ones, starting from 0 and 1:\n",
    "\n",
    "\n",
    "\n",
    "\n",
    "\n",
    "\n",
    "\n",
    "\n",
    "\n",
    "\n",
    "The beginning of the sequence is this:\n",
    "\n",
    "0, 1, 1, 2, 3, 5, 8, 13, 21, 34, 55, 89, 144, ...\n",
    "\n",
    "The function fastFib(num) returns the fibonacci number Fn, of the given num as an argument.\n",
    "\n",
    "Examples\n",
    "\n",
    "fib_fast(5) ➞ 5\n",
    "\n",
    "fib_fast(10) ➞ 55\n",
    "\n",
    "fib_fast(20) ➞ 6765\n",
    "\n",
    "fib_fast(50) ➞ 12586269025\n"
   ]
  },
  {
   "cell_type": "code",
   "execution_count": null,
   "metadata": {},
   "outputs": [],
   "source": [
    "def fib(n):\n",
    "    try:\n",
    "        a=0\n",
    "        b=1\n",
    "        l=[]\n",
    "        for i in range(0,n+1):\n",
    "            l.append(a)\n",
    "            a,b=b,a+b\n",
    "        return l[-1]\n",
    "    except Exception as e:\n",
    "        print(e)\n",
    "fib(50)\n",
    "            "
   ]
  },
  {
   "cell_type": "markdown",
   "metadata": {},
   "source": [
    "3. Someone has attempted to censor my strings by replacing every vowel with a *, l*k* th*s. Luckily, I've been able to find the vowels that were removed.\n",
    "\n",
    "Given a censored string and a string of the censored vowels, return the original uncensored string.\n",
    "\n",
    "Example\n",
    "\n",
    "uncensor(\"Wh*r* d*d my v*w*ls g*?\", \"eeioeo\") ➞ \"Where did my vowels go?\"\n",
    "\n",
    "uncensor(\"abcd\", \"\") ➞ \"abcd\"\n",
    "\n",
    "uncensor(\"*PP*RC*S*\", \"UEAE\") ➞ \"UPPERCASE\"\n"
   ]
  },
  {
   "cell_type": "code",
   "execution_count": 39,
   "metadata": {},
   "outputs": [
    {
     "data": {
      "text/plain": [
       "'UPPERCASE'"
      ]
     },
     "execution_count": 39,
     "metadata": {},
     "output_type": "execute_result"
    }
   ],
   "source": [
    "def uncensor(a,b):\n",
    "    try:\n",
    "        n=''\n",
    "        c=0\n",
    "        for i in a:\n",
    "            if i in \"*\":\n",
    "                n+=b[c]\n",
    "                c+=1\n",
    "            else:\n",
    "                n+=i\n",
    "        return n\n",
    "    except Exception as e:\n",
    "        print(e)\n",
    "uncensor(\"*PP*RC*S*\", \"UEAE\")  "
   ]
  },
  {
   "cell_type": "markdown",
   "metadata": {},
   "source": [
    "5. Create a function that takes an integer n and returns the factorial of factorials. See below examples for a better understanding:\n",
    "\n",
    "Examples\n",
    "\n",
    "fact_of_fact(4) ➞ 288\n",
    "#' 4! * 3! * 2! * 1! = 288\n",
    "\n",
    "fact_of_fact(5) ➞ 34560\n",
    "\n",
    "fact_of_fact(6) ➞ 24883200\n"
   ]
  },
  {
   "cell_type": "code",
   "execution_count": 45,
   "metadata": {},
   "outputs": [
    {
     "data": {
      "text/plain": [
       "288"
      ]
     },
     "execution_count": 45,
     "metadata": {},
     "output_type": "execute_result"
    }
   ],
   "source": [
    "def fact_of_fact(n):\n",
    "    try:\n",
    "        b=1\n",
    "        while n!=0:\n",
    "            for i in range(1,n+1):\n",
    "                b*=i\n",
    "            n+=-1\n",
    "        return b\n",
    "    except Exception as e:\n",
    "        print(e)\n",
    "        \n",
    "fact_of_fact(4)\n",
    "                \n",
    "            \n",
    "            "
   ]
  },
  {
   "cell_type": "markdown",
   "metadata": {},
   "source": [
    "4. Write a function that takes an IP address and returns the domain name using PTR DNS records.\n",
    "\n",
    "Example\n",
    "\n",
    "get_domain(\"8.8.8.8\") ➞ \"dns.google\"\n",
    "\n",
    "get_domain(\"8.8.4.4\") ➞ \"dns.google\"\n",
    "\n"
   ]
  },
  {
   "cell_type": "code",
   "execution_count": 43,
   "metadata": {},
   "outputs": [
    {
     "data": {
      "text/plain": [
       "'dns.google'"
      ]
     },
     "execution_count": 43,
     "metadata": {},
     "output_type": "execute_result"
    }
   ],
   "source": [
    "import socket\n",
    "def get_domain(n):\n",
    "    try:\n",
    "        a=socket.gethostbyaddr(n)\n",
    "        return a[0]\n",
    "    except Exception as e:\n",
    "        print(e)\n",
    "get_domain('8.8.4.4')"
   ]
  },
  {
   "cell_type": "markdown",
   "metadata": {},
   "source": [
    "2. Create a function that takes a strings characters as ASCII and returns each characters hexadecimal value as a string.\n",
    "\n",
    "Examples\n",
    "\n",
    "convert_to_hex(\"hello world\") ➞ \"68 65 6c 6c 6f 20 77 6f 72 6c 64\"\n",
    "\n",
    "convert_to_hex(\"Big Boi\") ➞ \"42 69 67 20 42 6f 69\"\n",
    "\n",
    "convert_to_hex(\"Marty Poppinson\") ➞ \"4d 61 72 74 79 20 50 6f 70 70 69 6e 73 6f 6e\"\n"
   ]
  },
  {
   "cell_type": "code",
   "execution_count": 59,
   "metadata": {},
   "outputs": [
    {
     "name": "stdout",
     "output_type": "stream",
     "text": [
      "['68656c6c6f20776f726c64']\n"
     ]
    }
   ],
   "source": [
    "str= 'hello world'.encode('utf-8')\n",
    "hex_str = str.hex()\n",
    "print(hex_str)"
   ]
  }
 ],
 "metadata": {
  "kernelspec": {
   "display_name": "Python 3",
   "language": "python",
   "name": "python3"
  },
  "language_info": {
   "codemirror_mode": {
    "name": "ipython",
    "version": 3
   },
   "file_extension": ".py",
   "mimetype": "text/x-python",
   "name": "python",
   "nbconvert_exporter": "python",
   "pygments_lexer": "ipython3",
   "version": "3.8.5"
  }
 },
 "nbformat": 4,
 "nbformat_minor": 4
}

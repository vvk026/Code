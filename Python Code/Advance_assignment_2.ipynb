{
 "cells": [
  {
   "cell_type": "markdown",
   "metadata": {},
   "source": [
    "1. Write a function that takes a positive integer num and calculates how many dots exist in a pentagonal shape around the center dot on the Nth iteration."
   ]
  },
  {
   "cell_type": "code",
   "execution_count": 7,
   "metadata": {},
   "outputs": [
    {
     "data": {
      "text/plain": [
       "16"
      ]
     },
     "execution_count": 7,
     "metadata": {},
     "output_type": "execute_result"
    }
   ],
   "source": [
    "class pentagon:\n",
    "    def __init__(self,n):\n",
    "        self.n=n\n",
    "    def no_of_dot(self):\n",
    "        try:\n",
    "            self.c=((5*self.n**2)-(5*self.n)+2)/2\n",
    "            return int(self.c)\n",
    "        except Exception as e:\n",
    "            print(e)\n",
    "a=pentagon(3)\n",
    "a.no_of_dot()"
   ]
  },
  {
   "cell_type": "markdown",
   "metadata": {},
   "source": [
    "2.  Make a function that encrypts a given input with these steps:\n",
    "\n",
    "Input: \"apple\"\n",
    "\n",
    "Step 1: Reverse the input: \"elppa\"\n",
    "\n",
    "Step 2: Replace all vowels using the following chart:\n",
    "\n",
    "a => 0\n",
    "e => 1\n",
    "i => 2\n",
    "o => 2\n",
    "u => 3\n",
    "\n",
    "# \"1lpp0\"\n",
    "\n",
    "Step 3: Add \"aca\" to the end of the word: \"1lpp0aca\"\n",
    "\n",
    "Output: \"1lpp0aca\"\n",
    "\n",
    "Examples\n",
    "\n",
    "encrypt(\"banana\") ➞ \"0n0n0baca\"\n",
    "\n",
    "encrypt(\"karaca\") ➞ \"0c0r0kaca\"\n",
    "\n",
    "encrypt(\"burak\") ➞ \"k0r3baca\"\n",
    "\n",
    "encrypt(\"alpaca\") ➞ \"0c0pl0aca\"\n"
   ]
  },
  {
   "cell_type": "code",
   "execution_count": 107,
   "metadata": {},
   "outputs": [
    {
     "data": {
      "text/plain": [
       "'0c0r0kaca'"
      ]
     },
     "execution_count": 107,
     "metadata": {},
     "output_type": "execute_result"
    }
   ],
   "source": [
    "class encryption:\n",
    "    def __init__(self,a):\n",
    "        self.a=a\n",
    "    def encrypt(self):\n",
    "        try:\n",
    "            self.b=self.a[::-1]\n",
    "            for i in self.b:\n",
    "                if i =='a':\n",
    "                    self.b=self.b.replace(i,'0')\n",
    "                elif i=='e':\n",
    "                    self.b=self.b.replace(i,'1')\n",
    "                elif i=='i':\n",
    "                    self.b=self.b.replace(i,'2')\n",
    "                elif i=='o':\n",
    "                    self.b=self.b.replace(i,'2')\n",
    "                elif i=='u':\n",
    "                    self.b=self.b.replace(i,'3')\n",
    "            self.b=self.b+'aca'\n",
    "            return self.b\n",
    "        except Exception as e:\n",
    "            print(e)\n",
    "w=encryption('karaca')\n",
    "w.encrypt()"
   ]
  },
  {
   "cell_type": "markdown",
   "metadata": {},
   "source": [
    "3. Given the month and year as numbers, return whether that month contains a Friday 13th.(i.e You can check Python's datetime module)\n",
    "\n",
    "Examples\n",
    "\n",
    "has_friday_13(3, 2020) ➞ True\n",
    "\n",
    "has_friday_13(10, 2017) ➞ True\n",
    "\n",
    "has_friday_13(1, 1985) ➞ False\n"
   ]
  },
  {
   "cell_type": "code",
   "execution_count": 109,
   "metadata": {},
   "outputs": [
    {
     "name": "stdout",
     "output_type": "stream",
     "text": [
      "Enter the month & year: 3 2020\n",
      "True\n"
     ]
    }
   ],
   "source": [
    "import datetime \n",
    "try:\n",
    "    month, year = input('Enter the month & year: ').split()  \n",
    "    print('True' if datetime.datetime.strptime('13 '+' '+month+' '+year, '%d %m %Y').weekday()==4 else 'False')\n",
    "except Exception as e:\n",
    "    print(e)"
   ]
  },
  {
   "cell_type": "markdown",
   "metadata": {},
   "source": [
    "4. Write a regular expression that will help us count how many bad cookies are produced every day. You must use RegEx negative lookbehind.\n",
    "\n",
    "Example\n",
    "\n",
    "lst = [\"bad cookie\", \"good cookie\", \"bad cookie\", \"good cookie\", \"good cookie\"]\n",
    "pattern = \"yourregularexpressionhere\"\n",
    "\n",
    "len(re.findall(pattern, \", \".join(lst))) ➞ 2\n",
    "\n"
   ]
  },
  {
   "cell_type": "code",
   "execution_count": 158,
   "metadata": {},
   "outputs": [
    {
     "name": "stdout",
     "output_type": "stream",
     "text": [
      "3\n"
     ]
    }
   ],
   "source": [
    "import re\n",
    "try:   \n",
    "    lst = [\"bad cookie\", \"bad cookie\", \"bad cookie\", \"good cookie\", \"good cookie\"]\n",
    "    pattern='bad\\s[a-z]+'\n",
    "    print(len(re.findall(pattern, ', '.join(lst))))\n",
    "except Exception as e:\n",
    "    print(e)"
   ]
  },
  {
   "cell_type": "markdown",
   "metadata": {},
   "source": [
    "5. Given a list of words in the singular form, return a set of those words in the plural form if they appear more than once in the list.\n",
    "\n",
    "Examples\n",
    "\n",
    "pluralize([\"cow\", \"pig\", \"cow\", \"cow\"]) ➞ { \"cows\", \"pig\" }\n",
    "\n",
    "pluralize([\"table\", \"table\", \"table\"]) ➞ { \"tables\" }\n",
    "\n",
    "pluralize([\"chair\", \"pencil\", \"arm\"]) ➞ { \"chair\", \"pencil\", \"arm\" }\n"
   ]
  },
  {
   "cell_type": "code",
   "execution_count": 159,
   "metadata": {},
   "outputs": [
    {
     "data": {
      "text/plain": [
       "{'cows'}"
      ]
     },
     "execution_count": 159,
     "metadata": {},
     "output_type": "execute_result"
    }
   ],
   "source": [
    "class alpha:\n",
    "    def __init__(self,args):\n",
    "        self.args=args\n",
    "    def pluralize(self):\n",
    "        try:\n",
    "            l=[]\n",
    "            for i in self.args:\n",
    "                if self.args.count(i)>1:\n",
    "                    l.append(i+'s')\n",
    "                else:\n",
    "                    l.append(i)\n",
    "            return set(l)\n",
    "        except Exception as e:\n",
    "            print(e)\n",
    "wr=alpha([\"cow\", \"cow\", \"cow\", \"cow\"])\n",
    "wr.pluralize()\n",
    "                \n",
    "                \n",
    "        \n",
    "    \n",
    "    "
   ]
  }
 ],
 "metadata": {
  "kernelspec": {
   "display_name": "Python 3",
   "language": "python",
   "name": "python3"
  },
  "language_info": {
   "codemirror_mode": {
    "name": "ipython",
    "version": 3
   },
   "file_extension": ".py",
   "mimetype": "text/x-python",
   "name": "python",
   "nbconvert_exporter": "python",
   "pygments_lexer": "ipython3",
   "version": "3.8.5"
  }
 },
 "nbformat": 4,
 "nbformat_minor": 4
}

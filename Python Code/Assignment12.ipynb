{
 "cells": [
  {
   "cell_type": "markdown",
   "metadata": {},
   "source": [
    "1.\tWrite a Python program to Extract Unique values dictionary values?"
   ]
  },
  {
   "cell_type": "code",
   "execution_count": 50,
   "metadata": {},
   "outputs": [
    {
     "data": {
      "text/plain": [
       "[1, 23, 34]"
      ]
     },
     "execution_count": 50,
     "metadata": {},
     "output_type": "execute_result"
    }
   ],
   "source": [
    "class dic:\n",
    "    def __init__(self,a):\n",
    "        self.a=a\n",
    "    def dc(self):\n",
    "        try:\n",
    "            l=[]\n",
    "            for i,j in self.a.items():\n",
    "                if j not in l:\n",
    "                    l.append(j)\n",
    "                else:\n",
    "                    pass\n",
    "            return l\n",
    "        except Exception as e:\n",
    "            print(e)\n",
    "q=dic({\"1\":1,\"2\":1,\"3\":23,\"w\":23,\"e\":34})\n",
    "q.dc()"
   ]
  },
  {
   "cell_type": "markdown",
   "metadata": {},
   "source": [
    "2.\tWrite a Python program to find the sum of all items in a dictionary?"
   ]
  },
  {
   "cell_type": "code",
   "execution_count": 58,
   "metadata": {},
   "outputs": [
    {
     "data": {
      "text/plain": [
       "70"
      ]
     },
     "execution_count": 58,
     "metadata": {},
     "output_type": "execute_result"
    }
   ],
   "source": [
    "class sm:\n",
    "    def __init__(self,a):\n",
    "        self.a=a\n",
    "    def s_u_m(self):\n",
    "        try:\n",
    "            l=[]\n",
    "            l1=[]\n",
    "            for i,j in self.a.items():\n",
    "                l.append(int(i))\n",
    "                l1.append(j)\n",
    "            return sum(l)+sum(l1)\n",
    "        except Exception as e:\n",
    "            print(e)\n",
    "q1=sm({\"1\":1,\"2\":1,\"3\":23,\"3\":23,\"5\":34})\n",
    "q1.s_u_m()"
   ]
  },
  {
   "cell_type": "markdown",
   "metadata": {},
   "source": [
    "3.\tWrite a Python program to Merging two Dictionaries?"
   ]
  },
  {
   "cell_type": "code",
   "execution_count": 7,
   "metadata": {},
   "outputs": [
    {
     "data": {
      "text/plain": [
       "{'6': 67, '8': 56, '1': 2, '4': 4}"
      ]
     },
     "execution_count": 7,
     "metadata": {},
     "output_type": "execute_result"
    }
   ],
   "source": [
    "class merge:\n",
    "    def __init__(self,a,b):\n",
    "        self.a=a\n",
    "        self.b=b\n",
    "    def mg(self):\n",
    "        try:\n",
    "            c=self.b.update(self.a)\n",
    "            return self.b\n",
    "        except Exception as e:\n",
    "            print(e)\n",
    "q2=merge({\"1\":2,\"4\":4},{\"6\":67,\"8\":56})\n",
    "q2.mg()\n",
    "        "
   ]
  },
  {
   "cell_type": "markdown",
   "metadata": {},
   "source": [
    "4.\tWrite a Python program to convert key-values list to flat dictionary?"
   ]
  },
  {
   "cell_type": "code",
   "execution_count": 13,
   "metadata": {},
   "outputs": [
    {
     "data": {
      "text/plain": [
       "{1: 2, 2: 3, 3: 4, 4: 5}"
      ]
     },
     "execution_count": 13,
     "metadata": {},
     "output_type": "execute_result"
    }
   ],
   "source": [
    "class con:\n",
    "    def __init__(self):\n",
    "        pass\n",
    "    def fd(self):\n",
    "        try:\n",
    "            a={\"1\":[1,2,3,4],\"b\":[2,3,4,5]}\n",
    "            return dict(zip(a['1'],a['b']))\n",
    "        except Exception as e:\n",
    "            print(e)\n",
    "q=con()\n",
    "q.fd()\n",
    "            "
   ]
  },
  {
   "cell_type": "markdown",
   "metadata": {},
   "source": [
    "5.\tWrite a Python program to insertion at the beginning in OrderedDict?"
   ]
  },
  {
   "cell_type": "code",
   "execution_count": 54,
   "metadata": {},
   "outputs": [
    {
     "data": {
      "text/plain": [
       "OrderedDict([('13', [45, 90]),\n",
       "             ('12', 23),\n",
       "             ('hello', 90),\n",
       "             ('see', 89),\n",
       "             ('pop', 88)])"
      ]
     },
     "execution_count": 54,
     "metadata": {},
     "output_type": "execute_result"
    }
   ],
   "source": [
    "from collections import OrderedDict\n",
    "class od:\n",
    "    def __init__(self,b):\n",
    "        self.b=b\n",
    "    def do(self):\n",
    "        try:\n",
    "            a=OrderedDict()\n",
    "            a['hello']=90\n",
    "            a['see']=89\n",
    "            a['pop']=88\n",
    "            a.update(self.b)\n",
    "            for i in self.b:\n",
    "                a.move_to_end(i,last=False)\n",
    "            return a\n",
    "        except Exception as e:\n",
    "            print(e)\n",
    "    qw=od({\"12\":23,\"13\":[45,90]})\n",
    "qw.do()\n",
    "    \n",
    "        \n",
    "        "
   ]
  },
  {
   "cell_type": "markdown",
   "metadata": {},
   "source": [
    "6.\tWrite a Python program to check order of character in string using OrderedDict()?"
   ]
  },
  {
   "cell_type": "code",
   "execution_count": 45,
   "metadata": {},
   "outputs": [
    {
     "name": "stdout",
     "output_type": "stream",
     "text": [
      "The string is \n",
      "Hi Mark\n",
      "The input pattern is \n",
      "Ma\n",
      "The order of pattern is correct\n"
     ]
    }
   ],
   "source": [
    "from collections import OrderedDict\n",
    "def check_order(my_input, my_pattern):\n",
    "   my_dict = OrderedDict.fromkeys(my_input)\n",
    "   pattern_length = 0\n",
    "   for key,value in my_dict.items():\n",
    "      if (key == my_pattern[pattern_length]):\n",
    "         pattern_length = pattern_length + 1\n",
    "\n",
    "      if (pattern_length == (len(my_pattern))):\n",
    "         return 'The order of pattern is correct'\n",
    "\n",
    "   return 'The order of pattern is incorrect'\n",
    "\n",
    "my_input = 'Hi Mark'\n",
    "input_pattern = 'Ma'\n",
    "print(\"The string is \")\n",
    "print(my_input)\n",
    "print(\"The input pattern is \")\n",
    "print(input_pattern)\n",
    "print(check_order(my_input,input_pattern))"
   ]
  },
  {
   "cell_type": "markdown",
   "metadata": {},
   "source": [
    "7.\tWrite a Python program to sort Python Dictionaries by Key or Value?"
   ]
  },
  {
   "cell_type": "code",
   "execution_count": 56,
   "metadata": {},
   "outputs": [
    {
     "data": {
      "text/plain": [
       "{'A': 12, 'a': 13, 'c': 23}"
      ]
     },
     "execution_count": 56,
     "metadata": {},
     "output_type": "execute_result"
    }
   ],
   "source": [
    "class sor:\n",
    "    def __init__(self,c):\n",
    "        self.c=c\n",
    "    def sort1(self):\n",
    "        try:\n",
    "            l1=[]\n",
    "            l2=[]\n",
    "            for i,j in self.c.items():\n",
    "                l1.append(i)\n",
    "                l2.append(j)\n",
    "            a=sorted(l1)\n",
    "            b=sorted(l2)\n",
    "            return dict(zip(a,b))\n",
    "        except Exception as e:\n",
    "            print(e)\n",
    "q1=sor({\"a\":12,\"A\":13,\"c\":23})\n",
    "q1.sort1()\n",
    "\n",
    "\n",
    "\n",
    "        "
   ]
  }
 ],
 "metadata": {
  "kernelspec": {
   "display_name": "Python 3",
   "language": "python",
   "name": "python3"
  },
  "language_info": {
   "codemirror_mode": {
    "name": "ipython",
    "version": 3
   },
   "file_extension": ".py",
   "mimetype": "text/x-python",
   "name": "python",
   "nbconvert_exporter": "python",
   "pygments_lexer": "ipython3",
   "version": "3.8.5"
  }
 },
 "nbformat": 4,
 "nbformat_minor": 4
}
